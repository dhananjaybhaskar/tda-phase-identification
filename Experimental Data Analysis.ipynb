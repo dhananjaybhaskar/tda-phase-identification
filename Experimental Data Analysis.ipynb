{
 "cells": [
  {
   "cell_type": "code",
   "execution_count": 1,
   "metadata": {},
   "outputs": [
    {
     "data": {
      "text/html": [
       "<script>\n",
       "// Immediately-invoked-function-expression to avoid global variables.\n",
       "(function() {\n",
       "    var warning_div = document.getElementById(\"webio-warning-11420451921814156141\");\n",
       "    var hide = function () {\n",
       "        var script = document.getElementById(\"webio-setup-11678286707747738836\");\n",
       "        var parent = script && script.parentElement;\n",
       "        var grandparent = parent && parent.parentElement;\n",
       "        if (grandparent) {\n",
       "            grandparent.style.display = \"none\";\n",
       "        }\n",
       "        warning_div.style.display = \"none\";\n",
       "    };\n",
       "    if (typeof Jupyter !== \"undefined\") {\n",
       "        console.log(\"WebIO detected Jupyter notebook environment.\");\n",
       "        // Jupyter notebook.\n",
       "        var extensions = (\n",
       "            Jupyter\n",
       "            && Jupyter.notebook.config.data\n",
       "            && Jupyter.notebook.config.data.load_extensions\n",
       "        );\n",
       "        if (extensions && extensions[\"webio-jupyter-notebook\"]) {\n",
       "            // Extension already loaded.\n",
       "            console.log(\"Jupyter WebIO nbextension detected; not loading ad-hoc.\");\n",
       "            hide();\n",
       "            return;\n",
       "        }\n",
       "    } else if (window.location.pathname.includes(\"/lab\")) {\n",
       "        // Guessing JupyterLa\n",
       "        console.log(\"Jupyter Lab detected; make sure the @webio/jupyter-lab-provider labextension is installed.\");\n",
       "        hide();\n",
       "        return;\n",
       "    }\n",
       "})();\n",
       "\n",
       "</script>\n",
       "<p\n",
       "    id=\"webio-warning-11420451921814156141\"\n",
       "    class=\"output_text output_stderr\"\n",
       "    style=\"padding: 1em; font-weight: bold;\"\n",
       ">\n",
       "    Unable to load WebIO. Please make sure WebIO works for your Jupyter client.\n",
       "    For troubleshooting, please see <a href=\"https://juliagizmos.github.io/WebIO.jl/latest/providers/ijulia/\">\n",
       "    the WebIO/IJulia documentation</a>.\n",
       "    <!-- TODO: link to installation docs. -->\n",
       "</p>\n"
      ],
      "text/plain": [
       "HTML{String}(\"<script>\\n// Immediately-invoked-function-expression to avoid global variables.\\n(function() {\\n    var warning_div = document.getElementById(\\\"webio-warning-11420451921814156141\\\");\\n    var hide = function () {\\n        var script = document.getElementById(\\\"webio-setup-11678286707747738836\\\");\\n        var parent = script && script.parentElement;\\n        var grandparent = parent && parent.parentElement;\\n        if (grandparent) {\\n            grandparent.style.display = \\\"none\\\";\\n        }\\n        warning_div.style.display = \\\"none\\\";\\n    };\\n    if (typeof Jupyter !== \\\"undefined\\\") {\\n        console.log(\\\"WebIO detected Jupyter notebook environment.\\\");\\n        // Jupyter notebook.\\n        var extensions = (\\n            Jupyter\\n            && Jupyter.notebook.config.data\\n            && Jupyter.notebook.config.data.load_extensions\\n        );\\n        if (extensions && extensions[\\\"webio-jupyter-notebook\\\"]) {\\n            // Extension already loaded.\\n            console.log(\\\"Jupyter WebIO nbextension detected; not loading ad-hoc.\\\");\\n            hide();\\n            return;\\n        }\\n    } else if (window.location.pathname.includes(\\\"/lab\\\")) {\\n        // Guessing JupyterLa\\n        console.log(\\\"Jupyter Lab detected; make sure the @webio/jupyter-lab-provider labextension is installed.\\\");\\n        hide();\\n        return;\\n    }\\n})();\\n\\n</script>\\n<p\\n    id=\\\"webio-warning-11420451921814156141\\\"\\n    class=\\\"output_text output_stderr\\\"\\n    style=\\\"padding: 1em; font-weight: bold;\\\"\\n>\\n    Unable to load WebIO. Please make sure WebIO works for your Jupyter client.\\n    For troubleshooting, please see <a href=\\\"https://juliagizmos.github.io/WebIO.jl/latest/providers/ijulia/\\\">\\n    the WebIO/IJulia documentation</a>.\\n    <!-- TODO: link to installation docs. -->\\n</p>\\n\")"
      ]
     },
     "metadata": {},
     "output_type": "display_data"
    }
   ],
   "source": [
    "using MAT\n",
    "using NPZ\n",
    "using Glob\n",
    "using WebIO\n",
    "using PyPlot\n",
    "using Eirene\n",
    "using Random\n",
    "using Statistics\n",
    "using Clustering\n",
    "using DelimitedFiles\n",
    "\n",
    "rng = MersenneTwister(1337);"
   ]
  },
  {
   "cell_type": "markdown",
   "metadata": {},
   "source": [
    "#### Load experimental data"
   ]
  },
  {
   "cell_type": "code",
   "execution_count": 2,
   "metadata": {},
   "outputs": [],
   "source": [
    "filelist = glob(\"EGF(E6)w*.mat\", \"experimental-data\")\n",
    "sz = size(filelist)[1];\n",
    "\n",
    "well_nums = []\n",
    "particle_pos = []\n",
    "\n",
    "for i in 1:sz\n",
    "    \n",
    "    filenamewext = split(filelist[i], '/')[2]\n",
    "    filename = split(filenamewext, '.')[1]\n",
    "    well_num = parse(Int, split(filename, 'w')[2])\n",
    "    \n",
    "    mat_variables = matread(filelist[i])\n",
    "    pos_x = mat_variables[\"storeX\"]\n",
    "    pos_y = mat_variables[\"storeY\"]\n",
    "    pos_x_final = pos_x[1:end, size(pos_x)[2]]\n",
    "    pos_y_final = pos_y[1:end, size(pos_y)[2]]\n",
    "    pos_x_final = filter!(!(isnan), pos_x_final)\n",
    "    pos_y_final = filter!(!(isnan), pos_y_final)\n",
    "    pos_final = hcat(pos_x_final, pos_y_final)\n",
    "    pos_final = transpose(pos_final)\n",
    "    \n",
    "    push!(well_nums, well_num)\n",
    "    push!(particle_pos, pos_final)\n",
    "    \n",
    "end"
   ]
  },
  {
   "cell_type": "markdown",
   "metadata": {},
   "source": [
    "#### Sort by well number"
   ]
  },
  {
   "cell_type": "code",
   "execution_count": 3,
   "metadata": {},
   "outputs": [],
   "source": [
    "sort_idx = sortperm(well_nums)\n",
    "well_nums = well_nums[sort_idx];\n",
    "particle_pos = particle_pos[sort_idx];\n",
    "\n",
    "densities = [500, 500, 500, 1000, 1000, 1000, \n",
    "             1000, 1000, 1000, 500, 500, 500,\n",
    "             500, 500, 500, 1000, 1000, 1000,\n",
    "             1000, 1000, 1000, 500, 500, 500];\n",
    "\n",
    "conditions = [\"GM\", \"Gefitinib\", \"Assay\", \"GM\", \"Gefitinib\", \"Assay\",\n",
    "             \"Assay\", \"Gefitinib\", \"GM\", \"Assay\", \"Gefitinib\", \"GM\",\n",
    "             \"GM\", \"Gefitinib\", \"Assay\", \"GM\", \"Gefitinib\", \"Assay\",\n",
    "             \"Assay\", \"Gefitinib\", \"GM\", \"Assay\", \"Gefitinib\", \"GM\"];"
   ]
  },
  {
   "cell_type": "markdown",
   "metadata": {},
   "source": [
    "#### Plot experimental condition"
   ]
  },
  {
   "cell_type": "code",
   "execution_count": 4,
   "metadata": {},
   "outputs": [
    {
     "data": {
      "image/png": "[encoded data removed]",
      "text/plain": [
       "Figure(PyObject <matplotlib.figure.Figure object at 0x7f1862ca0e80>)"
      ]
     },
     "metadata": {},
     "output_type": "display_data"
    },
    {
     "name": "stdout",
     "output_type": "stream",
     "text": [
      "Well 71 Gefitinib 500 cells\n",
      "Number of cells 168"
     ]
    }
   ],
   "source": [
    "cnt = 23\n",
    "print(\"Well \" * string(well_nums[cnt]) * \" \" * conditions[cnt] * \" \" * string(densities[cnt]) * \" cells\\n\");\n",
    "print(\"Number of cells \" * string(size(particle_pos[cnt])[2]));\n",
    "\n",
    "figure(figsize=(5,5), dpi=300)\n",
    "\n",
    "scatter(particle_pos[cnt][1,:], particle_pos[cnt][2,:], color=\"black\");\n",
    "\n",
    "xlim([0, 900]);\n",
    "ylim([0, 900]);\n",
    "xticks([]);\n",
    "yticks([]);\n",
    "\n",
    "ax = gca()\n",
    "ax.spines[\"top\"].set_linewidth(2.0)\n",
    "ax.spines[\"bottom\"].set_linewidth(2.0)\n",
    "ax.spines[\"left\"].set_linewidth(2.0)\n",
    "ax.spines[\"right\"].set_linewidth(2.0)\n",
    "\n",
    "show()"
   ]
  },
  {
   "cell_type": "markdown",
   "metadata": {},
   "source": [
    "#### Plot simulation result"
   ]
  },
  {
   "cell_type": "code",
   "execution_count": 12,
   "metadata": {},
   "outputs": [
    {
     "data": {
      "image/png": "[encoded data removed]",
      "text/plain": [
       "Figure(PyObject <matplotlib.figure.Figure object at 0x7f183ade2d68>)"
      ]
     },
     "metadata": {},
     "output_type": "display_data"
    }
   ],
   "source": [
    "adh_pol_sweep_folder = \"adhesion_polarity_proliferation_sweep\";\n",
    "\n",
    "adh = 10\n",
    "pol = 6\n",
    "\n",
    "subfolder = string(adh) * \"_adh_\" * string(pol) * \"_pol\"\n",
    "\n",
    "pos_file_path = adh_pol_sweep_folder * \"/\" * subfolder * \"/Pos_200000.dat\"\n",
    "posarray = readdlm(pos_file_path, ',', '\\n');\n",
    "posx = [];\n",
    "posy = [];\n",
    "for j in 1:size(posarray)[2]\n",
    "    complex_num = parse(Complex{Float64}, posarray[j])\n",
    "    push!(posx, real(complex_num));\n",
    "    push!(posy, imag(complex_num));    \n",
    "end\n",
    "\n",
    "figure(figsize=(5,5), dpi=300)\n",
    "\n",
    "scatter(posx, posy, color=\"black\");\n",
    "\n",
    "xlim([-10, 10]);\n",
    "ylim([-10, 10]);\n",
    "xticks([]);\n",
    "yticks([]);\n",
    "\n",
    "ax = gca()\n",
    "ax.spines[\"top\"].set_linewidth(2.0)\n",
    "ax.spines[\"bottom\"].set_linewidth(2.0)\n",
    "ax.spines[\"left\"].set_linewidth(2.0)\n",
    "ax.spines[\"right\"].set_linewidth(2.0)\n",
    "\n",
    "show()"
   ]
  },
  {
   "cell_type": "code",
   "execution_count": 6,
   "metadata": {},
   "outputs": [
    {
     "data": {
      "text/plain": [
       "get_pos (generic function with 1 method)"
      ]
     },
     "execution_count": 6,
     "metadata": {},
     "output_type": "execute_result"
    }
   ],
   "source": [
    "function get_pos(well_num, time)\n",
    "    \n",
    "    @assert 1 < time\n",
    "    @assert time <= 249\n",
    "    \n",
    "    pathstring = \"experimental-data/EGF(E6)w\" * string(well_num) * \".mat\"\n",
    "    mat_variables = matread(pathstring)\n",
    "    pos_x = mat_variables[\"storeX\"]\n",
    "    pos_y = mat_variables[\"storeY\"]\n",
    "    pos_x_t = pos_x[1:end, time]\n",
    "    pos_y_t = pos_y[1:end, time]\n",
    "    pos_x_t = filter!(!(isnan), pos_x_t)\n",
    "    pos_y_t = filter!(!(isnan), pos_y_t)\n",
    "    max_lim = maximum([maximum(pos_x_t), maximum(pos_y_t)])\n",
    "    min_lim = minimum([minimum(pos_x_t), minimum(pos_y_t)])\n",
    "    pos_x_t = -10 .+ 20*((pos_x_t .- min_lim)./(max_lim - min_lim))\n",
    "    pos_y_t = -10 .+ 20*((pos_y_t .- min_lim)./(max_lim - min_lim))\n",
    "    pos_t = hcat(pos_x_t, pos_y_t)\n",
    "    pos_t = transpose(pos_t)\n",
    "    \n",
    "end"
   ]
  },
  {
   "cell_type": "markdown",
   "metadata": {},
   "source": [
    "#### Compare experiments to simulations"
   ]
  },
  {
   "cell_type": "code",
   "execution_count": 7,
   "metadata": {},
   "outputs": [
    {
     "name": "stdout",
     "output_type": "stream",
     "text": [
      "Well 1 Condition: GM Density: 500\n",
      "Minimum Wasserstein Distance: 1.1566549560803088\n",
      "Adh: 4 Pol: 10\n",
      "\n",
      "Well 2 Condition: Gefitinib Density: 500\n",
      "Minimum Wasserstein Distance: 2.405551071652838\n",
      "Adh: 4 Pol: 3\n",
      "\n",
      "Well 3 Condition: Assay Density: 500\n",
      "Minimum Wasserstein Distance: 1.7836465898932996\n",
      "Adh: 11 Pol: 6\n",
      "\n",
      "Well 4 Condition: GM Density: 1000\n",
      "Minimum Wasserstein Distance: 2.8557560048662487\n",
      "Adh: 7 Pol: 3\n",
      "\n",
      "Well 5 Condition: Gefitinib Density: 1000\n",
      "Minimum Wasserstein Distance: 1.694573797061061\n",
      "Adh: 9 Pol: 6\n",
      "\n",
      "Well 6 Condition: Assay Density: 1000\n",
      "Minimum Wasserstein Distance: 1.548900434717615\n",
      "Adh: 6 Pol: 4\n",
      "\n",
      "Well 19 Condition: Assay Density: 1000\n",
      "Minimum Wasserstein Distance: 1.6407829006796841\n",
      "Adh: 7 Pol: 4\n",
      "\n",
      "Well 20 Condition: Gefitinib Density: 1000\n",
      "Minimum Wasserstein Distance: 2.1036852665838675\n",
      "Adh: 11 Pol: 11\n",
      "\n",
      "Well 21 Condition: GM Density: 1000\n",
      "Minimum Wasserstein Distance: 2.871868450297963\n",
      "Adh: 7 Pol: 3\n",
      "\n",
      "Well 22 Condition: Assay Density: 500\n",
      "Minimum Wasserstein Distance: 1.283142929963034\n",
      "Adh: 10 Pol: 5\n",
      "\n",
      "Well 23 Condition: Gefitinib Density: 500\n",
      "Minimum Wasserstein Distance: 1.3867918573776576\n",
      "Adh: 10 Pol: 6\n",
      "\n",
      "Well 24 Condition: GM Density: 500\n",
      "Minimum Wasserstein Distance: 1.3951091551151962\n",
      "Adh: 2 Pol: 6\n",
      "\n",
      "Well 49 Condition: GM Density: 500\n",
      "Minimum Wasserstein Distance: 2.084748676010423\n",
      "Adh: 7 Pol: 7\n",
      "\n",
      "Well 50 Condition: Gefitinib Density: 500\n",
      "Minimum Wasserstein Distance: 2.014015710088165\n",
      "Adh: 10 Pol: 5\n",
      "\n",
      "Well 51 Condition: Assay Density: 500\n",
      "Minimum Wasserstein Distance: 1.6956720659176647\n",
      "Adh: 10 Pol: 6\n",
      "\n",
      "Well 52 Condition: GM Density: 1000\n",
      "Minimum Wasserstein Distance: 2.3406528475008153\n",
      "Adh: 11 Pol: 11\n",
      "\n",
      "Well 53 Condition: Gefitinib Density: 1000\n",
      "Minimum Wasserstein Distance: 1.399650765267144\n",
      "Adh: 2 Pol: 3\n",
      "\n",
      "Well 54 Condition: Assay Density: 1000\n",
      "Minimum Wasserstein Distance: 1.5167962227293161\n",
      "Adh: 9 Pol: 6\n",
      "\n",
      "Well 67 Condition: Assay Density: 1000\n",
      "Minimum Wasserstein Distance: 2.2124932578531316\n",
      "Adh: 11 Pol: 6\n",
      "\n",
      "Well 68 Condition: Gefitinib Density: 1000\n",
      "Minimum Wasserstein Distance: 1.7771235498282778\n",
      "Adh: 6 Pol: 11\n",
      "\n",
      "Well 69 Condition: GM Density: 1000\n",
      "Minimum Wasserstein Distance: 2.806335216311389\n",
      "Adh: 11 Pol: 11\n",
      "\n",
      "Well 70 Condition: Assay Density: 500\n",
      "Minimum Wasserstein Distance: 1.8796022627183404\n",
      "Adh: 11 Pol: 6\n",
      "\n",
      "Well 71 Condition: Gefitinib Density: 500\n",
      "Minimum Wasserstein Distance: 1.5077664032157219\n",
      "Adh: 11 Pol: 8\n",
      "\n",
      "Well 72 Condition: GM Density: 500\n",
      "Minimum Wasserstein Distance: 1.8876086968953385\n",
      "Adh: 8 Pol: 6\n",
      "\n"
     ]
    }
   ],
   "source": [
    "pol_vals = range(0.005, stop=0.025, length=11);\n",
    "adh_vals = range(0.05, stop=0.25, length=11);\n",
    "\n",
    "adh_pol_sweep_folder = \"adhesion_polarity_proliferation_sweep\";\n",
    "\n",
    "cnt = 1\n",
    "for w_id in well_nums\n",
    "    \n",
    "    well_pos = get_pos(w_id, 249);\n",
    "    \n",
    "    ref_pers_diag = eirene(well_pos, model=\"pc\", maxdim=1);\n",
    "    ref_barcode = barcode(ref_pers_diag, dim=1);\n",
    "    \n",
    "    print(\"Well \" * string(w_id) * \" Condition: \" * string(conditions[cnt]) * \" Density: \" * repr(densities[cnt]))\n",
    "    print(\"\\n\")\n",
    "    \n",
    "    wasserstein_distances_ref1 = Array{Float64}(undef, 11, 11);\n",
    "    min_dist = Inf\n",
    "    min_adh = -1\n",
    "    min_pol = -1\n",
    "    \n",
    "    for adh = 1:11\n",
    "        for pol = 3:11\n",
    "            \n",
    "            subfolder = string(adh) * \"_adh_\" * string(pol) * \"_pol\"\n",
    "            pos_file_path = adh_pol_sweep_folder * \"/\" * subfolder * \"/Pos_200000.dat\"\n",
    "            posarray = readdlm(pos_file_path, ',', '\\n');\n",
    "            posx = [];\n",
    "            posy = [];\n",
    "            for j in 1:size(posarray)[2]\n",
    "                complex_num = parse(Complex{Float64}, posarray[j])\n",
    "                push!(posx, real(complex_num));\n",
    "                push!(posy, imag(complex_num));    \n",
    "            end\n",
    "            positions = transpose(hcat(posx, posy));  \n",
    "            \n",
    "            pers_diag = eirene(positions, model=\"pc\", maxdim=1);\n",
    "            barcodedata = barcode(pers_diag, dim=1);\n",
    "            \n",
    "            w_dist = wasserstein_distance(ref_barcode, barcodedata, q=2, p=2)\n",
    "            wasserstein_distances_ref1[adh, pol] = w_dist\n",
    "            \n",
    "            if w_dist < min_dist\n",
    "                min_dist = w_dist\n",
    "                min_adh = adh\n",
    "                min_pol = pol\n",
    "            end\n",
    "            \n",
    "        end\n",
    "    end\n",
    "    \n",
    "    print(\"Minimum Wasserstein Distance: \" * string(min_dist) * \"\\n\")\n",
    "    print(\"Adh: \" * string(min_adh) * \" Pol: \" * string(min_pol) * \"\\n\")\n",
    "    print(\"\\n\")\n",
    "    \n",
    "    cnt += 1\n",
    "    \n",
    "end"
   ]
  },
  {
   "cell_type": "markdown",
   "metadata": {},
   "source": [
    "#### Compute peristence diagrams"
   ]
  },
  {
   "cell_type": "code",
   "execution_count": 48,
   "metadata": {},
   "outputs": [
    {
     "name": "stdout",
     "output_type": "stream",
     "text": [
      " 46.776207 seconds (135.74 M allocations: 28.295 GiB, 10.63% gc time)\n"
     ]
    }
   ],
   "source": [
    "@time begin\n",
    "\n",
    "    barcodes = []\n",
    "\n",
    "    for i in 1:sz\n",
    "        pers_diag = eirene(particle_pos[i], model=\"pc\", maxdim=1)\n",
    "        push!(barcodes, barcode(pers_diag))\n",
    "    end\n",
    "    \n",
    "end"
   ]
  },
  {
   "cell_type": "markdown",
   "metadata": {},
   "source": [
    "#### Compute pairwise Wasserstein distances"
   ]
  },
  {
   "cell_type": "code",
   "execution_count": 49,
   "metadata": {},
   "outputs": [
    {
     "name": "stdout",
     "output_type": "stream",
     "text": [
      " 77.979330 seconds (532.90 k allocations: 718.178 MiB, 0.05% gc time)\n"
     ]
    }
   ],
   "source": [
    "@time begin\n",
    "    \n",
    "    wassmatrix = Array{Float64}(undef, sz, sz);\n",
    "    for rows in 1:sz\n",
    "        for cols in 1:sz\n",
    "            wassmatrix[rows, cols] = wasserstein_distance(barcodes[rows], barcodes[cols], q=2, p=2);\n",
    "        end\n",
    "    end\n",
    "    \n",
    "end"
   ]
  },
  {
   "cell_type": "markdown",
   "metadata": {},
   "source": [
    "#### Save data for visualization in R and Python"
   ]
  },
  {
   "cell_type": "code",
   "execution_count": null,
   "metadata": {},
   "outputs": [],
   "source": [
    "well_names = []\n",
    "\n",
    "for i in 1:sz\n",
    "    treat = \"\"\n",
    "    if well_nums[i] < 25\n",
    "        treat = treat * \"DMSO, \"\n",
    "    else\n",
    "        treat = treat * \"OHT, \"\n",
    "    end\n",
    "    push!(well_names, treat * conditions[i] * \", \" * string(densities[i]) * \" cells\")\n",
    "end"
   ]
  },
  {
   "cell_type": "code",
   "execution_count": null,
   "metadata": {},
   "outputs": [],
   "source": [
    "npzwrite(\"wasserstein_matrix_exp.npz\", Dict(\"wassmatrix\" => wassmatrix, \"densities\" => densities, \n",
    "        \"well_nums\" => convert(Array{Int64, 1}, well_nums)))"
   ]
  }
 ],
 "metadata": {
  "@webio": {
   "lastCommId": "1222f9cb26fe41308a60c8b3a6f9c114",
   "lastKernelId": "3c048c5f-b6d8-4246-a639-3fd444655f6d"
  },
  "kernelspec": {
   "display_name": "Julia 1.3.1",
   "language": "julia",
   "name": "julia-1.3"
  },
  "language_info": {
   "file_extension": ".jl",
   "mimetype": "application/julia",
   "name": "julia",
   "version": "1.3.1"
  }
 },
 "nbformat": 4,
 "nbformat_minor": 2
}
