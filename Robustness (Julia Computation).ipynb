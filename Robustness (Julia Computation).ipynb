{
 "cells": [
  {
   "cell_type": "markdown",
   "metadata": {},
   "source": [
    "#### Summary\n",
    "\n",
    "Compute pairwise Wasserstein distances between individual, branching/spanning and clustered phenotypes to quantify robustness w.r.t:\n",
    "  - sparse sampling\n",
    "  - spatial scaling\n",
    "  - time"
   ]
  },
  {
   "cell_type": "code",
   "execution_count": 1,
   "metadata": {},
   "outputs": [
    {
     "data": {
      "text/html": [
       "<script>\n",
       "// Immediately-invoked-function-expression to avoid global variables.\n",
       "(function() {\n",
       "    var warning_div = document.getElementById(\"webio-warning-16629760212403013159\");\n",
       "    var hide = function () {\n",
       "        var script = document.getElementById(\"webio-setup-16520477708306295187\");\n",
       "        var parent = script && script.parentElement;\n",
       "        var grandparent = parent && parent.parentElement;\n",
       "        if (grandparent) {\n",
       "            grandparent.style.display = \"none\";\n",
       "        }\n",
       "        warning_div.style.display = \"none\";\n",
       "    };\n",
       "    if (typeof Jupyter !== \"undefined\") {\n",
       "        console.log(\"WebIO detected Jupyter notebook environment.\");\n",
       "        // Jupyter notebook.\n",
       "        var extensions = (\n",
       "            Jupyter\n",
       "            && Jupyter.notebook.config.data\n",
       "            && Jupyter.notebook.config.data.load_extensions\n",
       "        );\n",
       "        if (extensions && extensions[\"webio-jupyter-notebook\"]) {\n",
       "            // Extension already loaded.\n",
       "            console.log(\"Jupyter WebIO nbextension detected; not loading ad-hoc.\");\n",
       "            hide();\n",
       "            return;\n",
       "        }\n",
       "    } else if (window.location.pathname.includes(\"/lab\")) {\n",
       "        // Guessing JupyterLa\n",
       "        console.log(\"Jupyter Lab detected; make sure the @webio/jupyter-lab-provider labextension is installed.\");\n",
       "        hide();\n",
       "        return;\n",
       "    }\n",
       "})();\n",
       "\n",
       "</script>\n",
       "<p\n",
       "    id=\"webio-warning-16629760212403013159\"\n",
       "    class=\"output_text output_stderr\"\n",
       "    style=\"padding: 1em; font-weight: bold;\"\n",
       ">\n",
       "    Unable to load WebIO. Please make sure WebIO works for your Jupyter client.\n",
       "    For troubleshooting, please see <a href=\"https://juliagizmos.github.io/WebIO.jl/latest/providers/ijulia/\">\n",
       "    the WebIO/IJulia documentation</a>.\n",
       "    <!-- TODO: link to installation docs. -->\n",
       "</p>\n"
      ],
      "text/plain": [
       "HTML{String}(\"<script>\\n// Immediately-invoked-function-expression to avoid global variables.\\n(function() {\\n    var warning_div = document.getElementById(\\\"webio-warning-16629760212403013159\\\");\\n    var hide = function () {\\n        var script = document.getElementById(\\\"webio-setup-16520477708306295187\\\");\\n        var parent = script && script.parentElement;\\n        var grandparent = parent && parent.parentElement;\\n        if (grandparent) {\\n            grandparent.style.display = \\\"none\\\";\\n        }\\n        warning_div.style.display = \\\"none\\\";\\n    };\\n    if (typeof Jupyter !== \\\"undefined\\\") {\\n        console.log(\\\"WebIO detected Jupyter notebook environment.\\\");\\n        // Jupyter notebook.\\n        var extensions = (\\n            Jupyter\\n            && Jupyter.notebook.config.data\\n            && Jupyter.notebook.config.data.load_extensions\\n        );\\n        if (extensions && extensions[\\\"webio-jupyter-notebook\\\"]) {\\n            // Extension already loaded.\\n            console.log(\\\"Jupyter WebIO nbextension detected; not loading ad-hoc.\\\");\\n            hide();\\n            return;\\n        }\\n    } else if (window.location.pathname.includes(\\\"/lab\\\")) {\\n        // Guessing JupyterLa\\n        console.log(\\\"Jupyter Lab detected; make sure the @webio/jupyter-lab-provider labextension is installed.\\\");\\n        hide();\\n        return;\\n    }\\n})();\\n\\n</script>\\n<p\\n    id=\\\"webio-warning-16629760212403013159\\\"\\n    class=\\\"output_text output_stderr\\\"\\n    style=\\\"padding: 1em; font-weight: bold;\\\"\\n>\\n    Unable to load WebIO. Please make sure WebIO works for your Jupyter client.\\n    For troubleshooting, please see <a href=\\\"https://juliagizmos.github.io/WebIO.jl/latest/providers/ijulia/\\\">\\n    the WebIO/IJulia documentation</a>.\\n    <!-- TODO: link to installation docs. -->\\n</p>\\n\")"
      ]
     },
     "metadata": {},
     "output_type": "display_data"
    }
   ],
   "source": [
    "using MAT\n",
    "using NPZ\n",
    "using PyPlot\n",
    "using Eirene\n",
    "using Random\n",
    "using Statistics\n",
    "using Distributions\n",
    "using DelimitedFiles\n",
    "\n",
    "Random.seed!(1234);"
   ]
  },
  {
   "cell_type": "markdown",
   "metadata": {},
   "source": [
    "#### Helper methods"
   ]
  },
  {
   "cell_type": "code",
   "execution_count": 2,
   "metadata": {},
   "outputs": [],
   "source": [
    "function get_cell_pos(filepath)\n",
    "    \n",
    "    posarray = readdlm(filepath, ',', '\\n');\n",
    "    posx = []\n",
    "    posy = []\n",
    "    \n",
    "    for j in 1:size(posarray)[2]\n",
    "        complex_num = parse(Complex{Float64}, posarray[j])\n",
    "        push!(posx, real(complex_num));\n",
    "        push!(posy, imag(complex_num));\n",
    "    end\n",
    "\n",
    "    final_positions = transpose(hcat(posx, posy));\n",
    "    return final_positions\n",
    "    \n",
    "end;\n",
    "\n",
    "function plot_cell_pos(cell_pos)\n",
    "    \n",
    "    figure(figsize=(4,4), dpi=300)\n",
    "    scatter(cell_pos[1,:], cell_pos[2,:], s=8)\n",
    "    xlim([-10, 10])\n",
    "    ylim([-10, 10])\n",
    "    xticks([])\n",
    "    yticks([])\n",
    "    \n",
    "    ax = gca()\n",
    "    ax.spines[\"top\"].set_linewidth(2.5)\n",
    "    ax.spines[\"left\"].set_linewidth(2.5)\n",
    "    ax.spines[\"bottom\"].set_linewidth(2.5)\n",
    "    ax.spines[\"right\"].set_linewidth(2.5)\n",
    "    \n",
    "    show()\n",
    "    \n",
    "end;"
   ]
  },
  {
   "cell_type": "markdown",
   "metadata": {},
   "source": [
    "### Without proliferation"
   ]
  },
  {
   "cell_type": "code",
   "execution_count": 3,
   "metadata": {},
   "outputs": [],
   "source": [
    "parent_folder = \"no_prolif_timelapse\"\n",
    "\n",
    "conditions = [\"Clustered\", \"Spanning\", \"SpanningWClusters\", \"Individual\"]\n",
    "\n",
    "cond_pairs = [[\"Individual\", \"Spanning\"], [\"Individual\", \"SpanningWClusters\"], [\"Individual\", \"Clustered\"],\n",
    "              [\"Spanning\", \"SpanningWClusters\"], [\"Spanning\", \"Clustered\"],\n",
    "              [\"SpanningWClusters\", \"Clustered\"]]\n",
    "\n",
    "cond_pairs_sml = [[\"Individual\", \"Spanning\"], [\"Individual\", \"Clustered\"], [\"Spanning\", \"Clustered\"]]\n",
    "\n",
    "\n",
    "tpoints = 0:1000:200000\n",
    "n_tpoints = length(tpoints)\n",
    "\n",
    "removals = 0:1:198              \n",
    "n_removals = length(removals)\n",
    "\n",
    "scales = 0.2:0.05:5             \n",
    "n_scales = length(scales)\n",
    "\n",
    "repetitions = 1:10;             \n",
    "n_reps = length(repetitions);"
   ]
  },
  {
   "cell_type": "markdown",
   "metadata": {},
   "source": [
    "#### Random removals"
   ]
  },
  {
   "cell_type": "code",
   "execution_count": 8,
   "metadata": {
    "scrolled": false
   },
   "outputs": [
    {
     "data": {
      "image/png": "[encoded data removed]",
      "text/plain": [
       "Figure(PyObject <matplotlib.figure.Figure object at 0x7ff113c67a58>)"
      ]
     },
     "metadata": {},
     "output_type": "display_data"
    },
    {
     "data": {
      "image/png": "[encoded data removed]",
      "text/plain": [
       "Figure(PyObject <matplotlib.figure.Figure object at 0x7ff111640da0>)"
      ]
     },
     "metadata": {},
     "output_type": "display_data"
    },
    {
     "data": {
      "image/png": "[encoded data removed]",
      "text/plain": [
       "Figure(PyObject <matplotlib.figure.Figure object at 0x7ff1117d5358>)"
      ]
     },
     "metadata": {},
     "output_type": "display_data"
    },
    {
     "data": {
      "image/png": "[encoded data removed]",
      "text/plain": [
       "Figure(PyObject <matplotlib.figure.Figure object at 0x7ff1119db470>)"
      ]
     },
     "metadata": {},
     "output_type": "display_data"
    },
    {
     "data": {
      "image/png": "[encoded data removed]",
      "text/plain": [
       "Figure(PyObject <matplotlib.figure.Figure object at 0x7ff1119b5470>)"
      ]
     },
     "metadata": {},
     "output_type": "display_data"
    },
    {
     "data": {
      "image/png": "[encoded data removed]",
      "text/plain": [
       "Figure(PyObject <matplotlib.figure.Figure object at 0x7ff1115d3400>)"
      ]
     },
     "metadata": {},
     "output_type": "display_data"
    }
   ],
   "source": [
    "cond = \"Clustered\"\n",
    "filepath = parent_folder * \"/\" * cond * \"_1_rep/Pos_200000.dat\"\n",
    "cell_pos = get_cell_pos(filepath)\n",
    "\n",
    "N_cells = size(cell_pos)[2]\n",
    "\n",
    "for num_removals in [0, 75, 120, 150, 175, 195]\n",
    "    \n",
    "    rm_idx = randperm(N_cells)[1:N_cells-num_removals]\n",
    "    \n",
    "    cell_pos_sample = cell_pos[:,rm_idx]\n",
    "    \n",
    "    plot_cell_pos(cell_pos_sample)\n",
    "    \n",
    "end"
   ]
  },
  {
   "cell_type": "code",
   "execution_count": null,
   "metadata": {},
   "outputs": [],
   "source": [
    "originalSTDOUT = stdout\n",
    "(outRead, outWrite) = redirect_stdout()\n",
    "\n",
    "for cpair in cond_pairs_sml\n",
    "    \n",
    "    wass_distance = zeros(n_reps, n_removals)\n",
    "    cond1 = cpair[1]\n",
    "    cond2 = cpair[2]\n",
    "    \n",
    "    for rep in repetitions\n",
    "        \n",
    "        n_t = 1\n",
    "        \n",
    "        for rem in removals\n",
    "            \n",
    "            filepath = parent_folder * \"/\" * cond1 * \"_\" * string(rep) * \"_rep/Pos_200000.dat\"\n",
    "            final_positions_1 = get_cell_pos(filepath)\n",
    "            N_cells_1 = size(final_positions_1)[2]\n",
    "            \n",
    "            filepath = parent_folder * \"/\" * cond2 * \"_\" * string(rep) * \"_rep/Pos_200000.dat\"\n",
    "            final_positions_2 = get_cell_pos(filepath)\n",
    "            N_cells_2 = size(final_positions_2)[2]\n",
    "            \n",
    "            if rem == 0\n",
    "                \n",
    "                pers_diag = eirene(final_positions_1, model=\"pc\", maxdim=1);\n",
    "                TDA_barcode_dim1_1 = barcode(pers_diag, dim=1)\n",
    "                \n",
    "                pers_diag = eirene(final_positions_2, model=\"pc\", maxdim=1);\n",
    "                TDA_barcode_dim1_2 = barcode(pers_diag, dim=1)\n",
    "                \n",
    "                wass_distance[rep, n_t] = wasserstein_distance(TDA_barcode_dim1_1, TDA_barcode_dim1_2, \n",
    "                                                                q=2, p=2);\n",
    "                \n",
    "            else\n",
    "                \n",
    "                rm_idx_1 = randperm(N_cells_1)[1:N_cells_1-rem]\n",
    "                rm_idx_2 = randperm(N_cells_2)[1:N_cells_2-rem]\n",
    "                \n",
    "                pers_diag = eirene(final_positions_1[:,rm_idx_1], model=\"pc\", maxdim=1);\n",
    "                TDA_barcode_dim1_1 = barcode(pers_diag, dim=1)\n",
    "                \n",
    "                pers_diag = eirene(final_positions_2[:,rm_idx_2], model=\"pc\", maxdim=1);\n",
    "                TDA_barcode_dim1_2 = barcode(pers_diag, dim=1)\n",
    "                \n",
    "                wass_distance[rep, n_t] = wasserstein_distance(TDA_barcode_dim1_1, TDA_barcode_dim1_2, \n",
    "                                                                q=2, p=2);\n",
    "                \n",
    "            end\n",
    "            \n",
    "            n_t += 1\n",
    "            \n",
    "        end \n",
    "        \n",
    "    end\n",
    "\n",
    "    mean_wass_dist = vec(mean(wass_distance, dims=1))\n",
    "    std_wass_dist = vec(std(wass_distance, dims=1))\n",
    "    \n",
    "    npzwrite(\"removal_wassdist_noprolif_\" * cond1 * \"_\" * cond2 * \".npz\", Dict(\n",
    "            \"mean\" => mean_wass_dist, \"std\" => std_wass_dist))   \n",
    "    \n",
    "end\n",
    "\n",
    "close(outWrite);\n",
    "close(outRead);\n",
    "redirect_stdout(originalSTDOUT);"
   ]
  },
  {
   "cell_type": "markdown",
   "metadata": {},
   "source": [
    "#### Spatial scaling"
   ]
  },
  {
   "cell_type": "code",
   "execution_count": null,
   "metadata": {},
   "outputs": [],
   "source": [
    "originalSTDOUT = stdout\n",
    "(outRead, outWrite) = redirect_stdout()\n",
    "\n",
    "for cpair in cond_pairs_sml\n",
    "    \n",
    "    wass_distance = zeros(n_reps, n_scales)\n",
    "    cond1 = cpair[1]\n",
    "    cond2 = cpair[2]\n",
    "    \n",
    "    for rep in repetitions\n",
    "        \n",
    "        n_t = 1\n",
    "        \n",
    "        for sc in scales\n",
    "            \n",
    "            filepath = parent_folder * \"/\" * cond1 * \"_\" * string(rep) * \"_rep/Pos_200000.dat\"\n",
    "            final_positions_1 = get_cell_pos(filepath)\n",
    "            N_cells_1 = size(final_positions_1)[2]\n",
    "            \n",
    "            filepath = parent_folder * \"/\" * cond2 * \"_\" * string(rep) * \"_rep/Pos_200000.dat\"\n",
    "            final_positions_2 = get_cell_pos(filepath)\n",
    "            N_cells_2 = size(final_positions_2)[2]\n",
    "            \n",
    "            if sc == 1\n",
    "                \n",
    "                pers_diag = eirene(final_positions_1, model=\"pc\", maxdim=1);\n",
    "                TDA_barcode_dim1_1 = barcode(pers_diag, dim=1)\n",
    "                \n",
    "                pers_diag = eirene(final_positions_2, model=\"pc\", maxdim=1);\n",
    "                TDA_barcode_dim1_2 = barcode(pers_diag, dim=1)\n",
    "                \n",
    "                wass_distance[rep, n_t] = wasserstein_distance(TDA_barcode_dim1_1, TDA_barcode_dim1_2, \n",
    "                                                                q=2, p=2);\n",
    "                \n",
    "            else\n",
    "                \n",
    "                scaled_pos = final_positions_1 .* sc\n",
    "                oob_mask = .|(abs.(scaled_pos[1,:]) .> 10, abs.(scaled_pos[2,:]) .> 10)\n",
    "\n",
    "                xpos1 = [scaled_pos[1,i] for i in range(1, stop=N_cells_1) if oob_mask[i]==0];\n",
    "                ypos1 = [scaled_pos[2,i] for i in range(1, stop=N_cells_1) if oob_mask[i]==0];\n",
    "                \n",
    "                scaled_pos_1 = transpose(hcat(xpos1, ypos1));\n",
    "                                        \n",
    "                N_oob_1 = sum(oob_mask)\n",
    "                N_scaled_1 = size(scaled_pos_1)[2]        \n",
    "                @assert N_cells_1 == N_oob_1 + N_scaled_1\n",
    "                                        \n",
    "                scaled_pos = final_positions_2 .* sc\n",
    "                oob_mask = .|(abs.(scaled_pos[1,:]) .> 10, abs.(scaled_pos[2,:]) .> 10)\n",
    "\n",
    "                xpos2 = [scaled_pos[1,i] for i in range(1, stop=N_cells_2) if oob_mask[i]==0];\n",
    "                ypos2 = [scaled_pos[2,i] for i in range(1, stop=N_cells_2) if oob_mask[i]==0];\n",
    "                scaled_pos_2 = transpose(hcat(xpos2, ypos2));\n",
    "            \n",
    "                N_oob_2 = sum(oob_mask)\n",
    "                N_scaled_2 = size(scaled_pos_2)[2]        \n",
    "                @assert N_cells_2 == N_oob_2 + N_scaled_2\n",
    "                                                                \n",
    "                if (N_scaled_1 <= 1 || N_scaled_2 <= 1)\n",
    "                                                                    \n",
    "                    wass_distance[rep, n_t] = 0.0;\n",
    "            \n",
    "                else\n",
    "                                                                    \n",
    "                    pers_diag = eirene(scaled_pos_1, model=\"pc\", maxdim=1);\n",
    "                    TDA_barcode_dim1_1 = barcode(pers_diag, dim=1)\n",
    "                \n",
    "                    pers_diag = eirene(scaled_pos_2, model=\"pc\", maxdim=1);\n",
    "                    TDA_barcode_dim1_2 = barcode(pers_diag, dim=1)                                            \n",
    "                                                                    \n",
    "                    wass_distance[rep, n_t] = wasserstein_distance(TDA_barcode_dim1_1, TDA_barcode_dim1_2, \n",
    "                                                                   q=2, p=2);\n",
    "                                                                    \n",
    "                end\n",
    "                \n",
    "            end\n",
    "            \n",
    "            n_t += 1\n",
    "            \n",
    "        end \n",
    "        \n",
    "    end\n",
    "\n",
    "    mean_wass_dist = vec(mean(wass_distance, dims=1))\n",
    "    std_wass_dist = vec(std(wass_distance, dims=1))\n",
    "    \n",
    "    npzwrite(\"scale_wassdist_noprolif_\" * cond1 * \"_\" * cond2 * \".npz\", Dict(\n",
    "            \"mean\" => mean_wass_dist, \"std\" => std_wass_dist)) \n",
    "    \n",
    "end\n",
    "\n",
    "close(outWrite);\n",
    "close(outRead);\n",
    "redirect_stdout(originalSTDOUT);"
   ]
  },
  {
   "cell_type": "markdown",
   "metadata": {},
   "source": [
    "#### Timelapse"
   ]
  },
  {
   "cell_type": "code",
   "execution_count": null,
   "metadata": {},
   "outputs": [],
   "source": [
    "originalSTDOUT = stdout\n",
    "(outRead, outWrite) = redirect_stdout()\n",
    "\n",
    "for cpair in cond_pairs_sml\n",
    "    \n",
    "    wass_distance = zeros(n_reps, n_tpoints)\n",
    "    cond1 = cpair[1]\n",
    "    cond2 = cpair[2]\n",
    "    \n",
    "    for rep in repetitions\n",
    "        \n",
    "        n_t = 1\n",
    "        \n",
    "        for tp in tpoints\n",
    "            \n",
    "            filepath = parent_folder * \"/\" * cond1 * \"_\" * string(rep) * \"_rep/Pos_\" * lpad(tp, 6, \"0\") * \".dat\"\n",
    "            final_positions = get_cell_pos(filepath)\n",
    "            pers_diag = eirene(final_positions, model=\"pc\", maxdim=1);\n",
    "            TDA_barcode_cond1 = barcode(pers_diag, dim=1)\n",
    "            \n",
    "            filepath = parent_folder * \"/\" * cond2 * \"_\" * string(rep) * \"_rep/Pos_\" * lpad(tp, 6, \"0\") * \".dat\"\n",
    "            final_positions = get_cell_pos(filepath)\n",
    "            pers_diag = eirene(final_positions, model=\"pc\", maxdim=1);\n",
    "            TDA_barcode_cond2 = barcode(pers_diag, dim=1)\n",
    "            \n",
    "            wass_distance[rep, n_t] = wasserstein_distance(TDA_barcode_cond1, TDA_barcode_cond2, q=2, p=2);\n",
    "            \n",
    "            n_t += 1\n",
    "            \n",
    "        end \n",
    "        \n",
    "    end\n",
    "\n",
    "    mean_wass_dist = vec(mean(wass_distance, dims=1))\n",
    "    std_wass_dist = vec(std(wass_distance, dims=1))\n",
    "    \n",
    "    npzwrite(\"timelapse_wassdist_noprolif_\" * cond1 * \"_\" * cond2 * \".npz\", Dict(\n",
    "            \"mean\" => mean_wass_dist, \"std\" => std_wass_dist))   \n",
    "      \n",
    "end\n",
    "\n",
    "close(outWrite);\n",
    "close(outRead);\n",
    "redirect_stdout(originalSTDOUT);"
   ]
  },
  {
   "cell_type": "markdown",
   "metadata": {},
   "source": [
    "### With proliferation enabled"
   ]
  },
  {
   "cell_type": "code",
   "execution_count": 12,
   "metadata": {},
   "outputs": [],
   "source": [
    "parent_folder = \"prolif_timelapse\"\n",
    "\n",
    "conditions = [\"Clustered\", \"Spanning\", \"SpanningWClusters\"]\n",
    "\n",
    "cond_pairs_sml = [[\"Spanning\", \"SpanningWClusters\"], [\"SpanningWClusters\", \"Clustered\"], [\"Spanning\", \"Clustered\"]]\n",
    "\n",
    "tpoints = 0:1000:200000;\n",
    "n_tpoints = length(tpoints);\n",
    "\n",
    "removals = 0:1:180;\n",
    "n_removals = length(removals);\n",
    "\n",
    "scales = 0.2:0.05:10\n",
    "n_scales = length(scales)\n",
    "\n",
    "repetitions = 1:10;\n",
    "n_reps = length(repetitions);"
   ]
  },
  {
   "cell_type": "markdown",
   "metadata": {},
   "source": [
    "#### Random removals"
   ]
  },
  {
   "cell_type": "code",
   "execution_count": 13,
   "metadata": {
    "scrolled": false
   },
   "outputs": [
    {
     "data": {
      "image/png": "[encoded data removed]",
      "text/plain": [
       "Figure(PyObject <matplotlib.figure.Figure object at 0x7ff11175b908>)"
      ]
     },
     "metadata": {},
     "output_type": "display_data"
    },
    {
     "data": {
      "image/png": "[encoded data removed]",
      "text/plain": [
       "Figure(PyObject <matplotlib.figure.Figure object at 0x7ff1119b2eb8>)"
      ]
     },
     "metadata": {},
     "output_type": "display_data"
    },
    {
     "data": {
      "image/png": "[encoded data removed]",
      "text/plain": [
       "Figure(PyObject <matplotlib.figure.Figure object at 0x7ff113c67320>)"
      ]
     },
     "metadata": {},
     "output_type": "display_data"
    },
    {
     "data": {
      "image/png": "[encoded data removed]",
      "text/plain": [
       "Figure(PyObject <matplotlib.figure.Figure object at 0x7ff111795400>)"
      ]
     },
     "metadata": {},
     "output_type": "display_data"
    },
    {
     "data": {
      "image/png": "[encoded data removed]",
      "text/plain": [
       "Figure(PyObject <matplotlib.figure.Figure object at 0x7ff113d99c50>)"
      ]
     },
     "metadata": {},
     "output_type": "display_data"
    },
    {
     "data": {
      "image/png": "[encoded data removed]",
      "text/plain": [
       "Figure(PyObject <matplotlib.figure.Figure object at 0x7ff111701550>)"
      ]
     },
     "metadata": {},
     "output_type": "display_data"
    }
   ],
   "source": [
    "cond = \"Clustered\"\n",
    "filepath = parent_folder * \"/\" * cond * \"_1_rep/Pos_200000.dat\"\n",
    "cell_pos = get_cell_pos(filepath)\n",
    "\n",
    "N_cells = size(cell_pos)[2]\n",
    "\n",
    "for num_removals in 0:36:180\n",
    "    \n",
    "    rm_idx = randperm(N_cells)[1:N_cells-num_removals]\n",
    "    \n",
    "    cell_pos_sample = cell_pos[:,rm_idx]\n",
    "    \n",
    "    plot_cell_pos(cell_pos_sample)\n",
    "    \n",
    "end"
   ]
  },
  {
   "cell_type": "code",
   "execution_count": null,
   "metadata": {},
   "outputs": [],
   "source": [
    "originalSTDOUT = stdout\n",
    "(outRead, outWrite) = redirect_stdout()\n",
    "\n",
    "for cpair in cond_pairs_sml\n",
    "    \n",
    "    wass_distance = zeros(n_reps, n_removals)\n",
    "    cond1 = cpair[1]\n",
    "    cond2 = cpair[2]\n",
    "    \n",
    "    for rep in repetitions\n",
    "        \n",
    "        n_t = 1\n",
    "        \n",
    "        for rem in removals\n",
    "            \n",
    "            filepath = parent_folder * \"/\" * cond1 * \"_\" * string(rep) * \"_rep/Pos_200000.dat\"\n",
    "            final_positions_1 = get_cell_pos(filepath)\n",
    "            N_cells_1 = size(final_positions_1)[2]\n",
    "            \n",
    "            filepath = parent_folder * \"/\" * cond2 * \"_\" * string(rep) * \"_rep/Pos_200000.dat\"\n",
    "            final_positions_2 = get_cell_pos(filepath)\n",
    "            N_cells_2 = size(final_positions_2)[2]\n",
    "            \n",
    "            if rem == 0\n",
    "                \n",
    "                pers_diag = eirene(final_positions_1, model=\"pc\", maxdim=1);\n",
    "                TDA_barcode_dim1_1 = barcode(pers_diag, dim=1)\n",
    "                \n",
    "                pers_diag = eirene(final_positions_2, model=\"pc\", maxdim=1);\n",
    "                TDA_barcode_dim1_2 = barcode(pers_diag, dim=1)\n",
    "                \n",
    "                wass_distance[rep, n_t] = wasserstein_distance(TDA_barcode_dim1_1, TDA_barcode_dim1_2, \n",
    "                                                                q=2, p=2);\n",
    "                \n",
    "            else\n",
    "                \n",
    "                rm_idx_1 = randperm(N_cells_1)[1:N_cells_1-rem]\n",
    "                rm_idx_2 = randperm(N_cells_2)[1:N_cells_2-rem]\n",
    "                \n",
    "                if (length(rm_idx_1) <= 1 || length(rm_idx_2) <= 1)\n",
    "                    \n",
    "                    wass_distance[rep, n_t] = 0\n",
    "                    \n",
    "                else\n",
    "                \n",
    "                    pers_diag = eirene(final_positions_1[:,rm_idx_1], model=\"pc\", maxdim=1);\n",
    "                    TDA_barcode_dim1_1 = barcode(pers_diag, dim=1)\n",
    "\n",
    "                    pers_diag = eirene(final_positions_2[:,rm_idx_2], model=\"pc\", maxdim=1);\n",
    "                    TDA_barcode_dim1_2 = barcode(pers_diag, dim=1)\n",
    "                \n",
    "                    wass_distance[rep, n_t] = wasserstein_distance(TDA_barcode_dim1_1, TDA_barcode_dim1_2, \n",
    "                                                                   q=2, p=2);\n",
    "                    \n",
    "                end\n",
    "                \n",
    "            end\n",
    "            \n",
    "            n_t += 1\n",
    "            \n",
    "        end \n",
    "        \n",
    "    end\n",
    "\n",
    "    mean_wass_dist = vec(mean(wass_distance, dims=1))\n",
    "    std_wass_dist = vec(std(wass_distance, dims=1))\n",
    "    \n",
    "    npzwrite(\"removal_wassdist_prolif_\" * cond1 * \"_\" * cond2 * \".npz\", Dict(\n",
    "            \"mean\" => mean_wass_dist, \"std\" => std_wass_dist))   \n",
    "    \n",
    "end\n",
    "\n",
    "close(outWrite);\n",
    "close(outRead);\n",
    "redirect_stdout(originalSTDOUT);"
   ]
  },
  {
   "cell_type": "markdown",
   "metadata": {},
   "source": [
    "#### Spatial scaling"
   ]
  },
  {
   "cell_type": "code",
   "execution_count": 66,
   "metadata": {},
   "outputs": [
    {
     "data": {
      "image/png": "[encoded data removed]",
      "text/plain": [
       "Figure(PyObject <matplotlib.figure.Figure object at 0x7fcba39c2f60>)"
      ]
     },
     "metadata": {},
     "output_type": "display_data"
    },
    {
     "data": {
      "image/png": "[encoded data removed]",
      "text/plain": [
       "Figure(PyObject <matplotlib.figure.Figure object at 0x7fcba3f5cc88>)"
      ]
     },
     "metadata": {},
     "output_type": "display_data"
    },
    {
     "data": {
      "image/png": "[encoded data removed]",
      "text/plain": [
       "Figure(PyObject <matplotlib.figure.Figure object at 0x7fcba3f8c438>)"
      ]
     },
     "metadata": {},
     "output_type": "display_data"
    },
    {
     "data": {
      "image/png": "[encoded data removed]",
      "text/plain": [
       "Figure(PyObject <matplotlib.figure.Figure object at 0x7fcba3d57cf8>)"
      ]
     },
     "metadata": {},
     "output_type": "display_data"
    },
    {
     "data": {
      "image/png": "[encoded data removed]",
      "text/plain": [
       "Figure(PyObject <matplotlib.figure.Figure object at 0x7fcba4004588>)"
      ]
     },
     "metadata": {},
     "output_type": "display_data"
    }
   ],
   "source": [
    "cond = \"Clustered\"\n",
    "filepath = parent_folder * \"/\" * cond * \"_1_rep/Pos_200000.dat\"\n",
    "cell_pos = get_cell_pos(filepath)\n",
    "\n",
    "N_cells = size(cell_pos)[2]\n",
    "\n",
    "for sc in [1,2,2.5,3,4]\n",
    "    \n",
    "    scaled_pos = cell_pos .* sc\n",
    "    oob_mask = .|(abs.(scaled_pos[1,:]) .> 10, abs.(scaled_pos[2,:]) .> 10)\n",
    "\n",
    "    xpos = [scaled_pos[1,i] for i in range(1, stop=N_cells) if oob_mask[i]==0];\n",
    "    ypos = [scaled_pos[2,i] for i in range(1, stop=N_cells) if oob_mask[i]==0];\n",
    "                \n",
    "    cell_pos_sample = transpose(hcat(xpos, ypos));\n",
    "    \n",
    "    plot_cell_pos(cell_pos_sample)\n",
    "    \n",
    "end"
   ]
  },
  {
   "cell_type": "code",
   "execution_count": null,
   "metadata": {
    "scrolled": false
   },
   "outputs": [],
   "source": [
    "originalSTDOUT = stdout\n",
    "(outRead, outWrite) = redirect_stdout()\n",
    "\n",
    "for cpair in cond_pairs_sml\n",
    "    \n",
    "    wass_distance = zeros(n_reps, n_scales)\n",
    "    cond1 = cpair[1]\n",
    "    cond2 = cpair[2]\n",
    "    \n",
    "    for rep in repetitions\n",
    "        \n",
    "        n_t = 1\n",
    "        \n",
    "        for sc in scales\n",
    "            \n",
    "            filepath = parent_folder * \"/\" * cond1 * \"_\" * string(rep) * \"_rep/Pos_200000.dat\"\n",
    "            final_positions_1 = get_cell_pos(filepath)\n",
    "            N_cells_1 = size(final_positions_1)[2]\n",
    "            \n",
    "            filepath = parent_folder * \"/\" * cond2 * \"_\" * string(rep) * \"_rep/Pos_200000.dat\"\n",
    "            final_positions_2 = get_cell_pos(filepath)\n",
    "            N_cells_2 = size(final_positions_2)[2]\n",
    "            \n",
    "            if sc == 1\n",
    "                \n",
    "                pers_diag = eirene(final_positions_1, model=\"pc\", maxdim=1);\n",
    "                TDA_barcode_dim1_1 = barcode(pers_diag, dim=1)\n",
    "                \n",
    "                pers_diag = eirene(final_positions_2, model=\"pc\", maxdim=1);\n",
    "                TDA_barcode_dim1_2 = barcode(pers_diag, dim=1)\n",
    "                \n",
    "                wass_distance[rep, n_t] = wasserstein_distance(TDA_barcode_dim1_1, TDA_barcode_dim1_2, \n",
    "                                                                q=2, p=2);\n",
    "                \n",
    "            else\n",
    "                \n",
    "                scaled_pos = final_positions_1 .* sc\n",
    "                oob_mask = .|(abs.(scaled_pos[1,:]) .> 10, abs.(scaled_pos[2,:]) .> 10)\n",
    "\n",
    "                xpos1 = [scaled_pos[1,i] for i in range(1, stop=N_cells_1) if oob_mask[i]==0];\n",
    "                ypos1 = [scaled_pos[2,i] for i in range(1, stop=N_cells_1) if oob_mask[i]==0];\n",
    "                \n",
    "                scaled_pos_1 = transpose(hcat(xpos1, ypos1));\n",
    "                                        \n",
    "                N_oob_1 = sum(oob_mask)\n",
    "                N_scaled_1 = size(scaled_pos_1)[2]        \n",
    "                @assert N_cells_1 == N_oob_1 + N_scaled_1\n",
    "                                        \n",
    "                scaled_pos = final_positions_2 .* sc\n",
    "                oob_mask = .|(abs.(scaled_pos[1,:]) .> 10, abs.(scaled_pos[2,:]) .> 10)\n",
    "\n",
    "                xpos2 = [scaled_pos[1,i] for i in range(1, stop=N_cells_2) if oob_mask[i]==0];\n",
    "                ypos2 = [scaled_pos[2,i] for i in range(1, stop=N_cells_2) if oob_mask[i]==0];\n",
    "                scaled_pos_2 = transpose(hcat(xpos2, ypos2));\n",
    "            \n",
    "                N_oob_2 = sum(oob_mask)\n",
    "                N_scaled_2 = size(scaled_pos_2)[2]        \n",
    "                @assert N_cells_2 == N_oob_2 + N_scaled_2\n",
    "                                                                \n",
    "                if (N_scaled_1 <= 1 || N_scaled_2 <= 1)\n",
    "                                                                    \n",
    "                    wass_distance[rep, n_t] = 0.0;\n",
    "            \n",
    "                else\n",
    "                                                                    \n",
    "                    pers_diag = eirene(scaled_pos_1, model=\"pc\", maxdim=1);\n",
    "                    TDA_barcode_dim1_1 = barcode(pers_diag, dim=1)\n",
    "                \n",
    "                    pers_diag = eirene(scaled_pos_2, model=\"pc\", maxdim=1);\n",
    "                    TDA_barcode_dim1_2 = barcode(pers_diag, dim=1)                                            \n",
    "                                                                    \n",
    "                    wass_distance[rep, n_t] = wasserstein_distance(TDA_barcode_dim1_1, TDA_barcode_dim1_2, \n",
    "                                                                   q=2, p=2);\n",
    "                                                                    \n",
    "                end\n",
    "                \n",
    "            end\n",
    "            \n",
    "            n_t += 1\n",
    "            \n",
    "        end \n",
    "        \n",
    "    end\n",
    "\n",
    "    mean_wass_dist = vec(mean(wass_distance, dims=1))\n",
    "    std_wass_dist = vec(std(wass_distance, dims=1))\n",
    "    \n",
    "    npzwrite(\"scale_wassdist_prolif_\" * cond1 * \"_\" * cond2 * \".npz\", Dict(\n",
    "            \"mean\" => mean_wass_dist, \"std\" => std_wass_dist))   \n",
    "    \n",
    "end\n",
    "\n",
    "close(outWrite);\n",
    "close(outRead);\n",
    "redirect_stdout(originalSTDOUT);"
   ]
  },
  {
   "cell_type": "markdown",
   "metadata": {},
   "source": [
    "#### Timelapse"
   ]
  },
  {
   "cell_type": "code",
   "execution_count": null,
   "metadata": {},
   "outputs": [],
   "source": [
    "originalSTDOUT = stdout\n",
    "(outRead, outWrite) = redirect_stdout()\n",
    "\n",
    "for cpair in cond_pairs_sml\n",
    "    \n",
    "    wass_distance = zeros(n_reps, n_tpoints)\n",
    "    cond1 = cpair[1]\n",
    "    cond2 = cpair[2]\n",
    "    \n",
    "    for rep in repetitions\n",
    "        \n",
    "        n_t = 1\n",
    "        \n",
    "        for tp in tpoints\n",
    "            \n",
    "            filepath = parent_folder * \"/\" * cond1 * \"_\" * string(rep) * \"_rep/Pos_\" * lpad(tp, 6, \"0\") * \".dat\"\n",
    "            final_positions = get_cell_pos(filepath)\n",
    "            pers_diag = eirene(final_positions, model=\"pc\", maxdim=1);\n",
    "            TDA_barcode_cond1 = barcode(pers_diag, dim=1)\n",
    "            \n",
    "            filepath = parent_folder * \"/\" * cond2 * \"_\" * string(rep) * \"_rep/Pos_\" * lpad(tp, 6, \"0\") * \".dat\"\n",
    "            final_positions = get_cell_pos(filepath)\n",
    "            pers_diag = eirene(final_positions, model=\"pc\", maxdim=1);\n",
    "            TDA_barcode_cond2 = barcode(pers_diag, dim=1)\n",
    "            \n",
    "            wass_distance[rep, n_t] = wasserstein_distance(TDA_barcode_cond1, TDA_barcode_cond2, q=2, p=2);\n",
    "            \n",
    "            n_t += 1\n",
    "            \n",
    "        end \n",
    "        \n",
    "    end\n",
    "\n",
    "    mean_wass_dist = vec(mean(wass_distance, dims=1))\n",
    "    std_wass_dist = vec(std(wass_distance, dims=1))\n",
    "    \n",
    "    npzwrite(\"timelapse_wassdist_prolif_\" * cond1 * \"_\" * cond2 * \".npz\", Dict(\n",
    "            \"mean\" => mean_wass_dist, \"std\" => std_wass_dist))   \n",
    "    \n",
    "end\n",
    "\n",
    "close(outWrite);\n",
    "close(outRead);\n",
    "redirect_stdout(originalSTDOUT);"
   ]
  },
  {
   "cell_type": "code",
   "execution_count": null,
   "metadata": {},
   "outputs": [],
   "source": []
  }
 ],
 "metadata": {
  "@webio": {
   "lastCommId": "35ddc95d2adf4bb79779d729fd60c524",
   "lastKernelId": "f7d2bb0f-d57f-4e61-a71b-1bc1e2be52d4"
  },
  "kernelspec": {
   "display_name": "Julia 1.3.1",
   "language": "julia",
   "name": "julia-1.3"
  },
  "language_info": {
   "file_extension": ".jl",
   "mimetype": "application/julia",
   "name": "julia",
   "version": "1.3.1"
  }
 },
 "nbformat": 4,
 "nbformat_minor": 2
}
